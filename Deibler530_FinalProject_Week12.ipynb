{
 "cells": [
  {
   "cell_type": "markdown",
   "id": "960116e7",
   "metadata": {},
   "source": [
    "# DSC 530 Final Project\n",
    "## Week 12\n",
    "### Ashley Deibler"
   ]
  },
  {
   "cell_type": "markdown",
   "id": "6693bdde",
   "metadata": {},
   "source": [
    "## Importing Dataset"
   ]
  },
  {
   "cell_type": "code",
   "execution_count": 1,
   "id": "5b93f406",
   "metadata": {},
   "outputs": [],
   "source": [
    "from os.path import basename, exists\n",
    "\n",
    "\n",
    "def download(url):\n",
    "    filename = basename(url)\n",
    "    if not exists(filename):\n",
    "        from urllib.request import urlretrieve\n",
    "\n",
    "        local, _ = urlretrieve(url, filename)\n",
    "        print(\"Downloaded \" + local)\n",
    "\n",
    "\n",
    "download(\"https://github.com/AllenDowney/ThinkStats2/raw/master/code/thinkstats2.py\")\n",
    "download(\"https://github.com/AllenDowney/ThinkStats2/raw/master/code/thinkplot.py\")\n",
    "download(\"https://github.com/AllenDowney/ThinkStats2/raw/master/code/nsfg.py\")\n",
    "download(\"https://github.com/AllenDowney/ThinkStats2/raw/master/code/first.py\")"
   ]
  },
  {
   "cell_type": "code",
   "execution_count": 2,
   "id": "b4753478",
   "metadata": {},
   "outputs": [],
   "source": [
    "import pandas as pd\n",
    "import numpy as np\n",
    "import matplotlib.pyplot as mtplt\n",
    "import seaborn as sb\n",
    "%matplotlib inline"
   ]
  },
  {
   "cell_type": "code",
   "execution_count": 3,
   "id": "16964382",
   "metadata": {},
   "outputs": [
    {
     "name": "stdout",
     "output_type": "stream",
     "text": [
      "Requirement already satisfied: kaggle in c:\\users\\diggy\\anaconda3\\lib\\site-packages (1.6.6)\n",
      "Requirement already satisfied: six>=1.10 in c:\\users\\diggy\\anaconda3\\lib\\site-packages (from kaggle) (1.16.0)\n",
      "Requirement already satisfied: certifi in c:\\users\\diggy\\anaconda3\\lib\\site-packages (from kaggle) (2023.11.17)\n",
      "Requirement already satisfied: python-dateutil in c:\\users\\diggy\\anaconda3\\lib\\site-packages (from kaggle) (2.8.2)\n",
      "Requirement already satisfied: requests in c:\\users\\diggy\\anaconda3\\lib\\site-packages (from kaggle) (2.31.0)\n",
      "Requirement already satisfied: tqdm in c:\\users\\diggy\\anaconda3\\lib\\site-packages (from kaggle) (4.65.0)\n",
      "Requirement already satisfied: python-slugify in c:\\users\\diggy\\anaconda3\\lib\\site-packages (from kaggle) (5.0.2)\n",
      "Requirement already satisfied: urllib3 in c:\\users\\diggy\\anaconda3\\lib\\site-packages (from kaggle) (1.26.16)\n",
      "Requirement already satisfied: bleach in c:\\users\\diggy\\anaconda3\\lib\\site-packages (from kaggle) (4.1.0)\n",
      "Requirement already satisfied: packaging in c:\\users\\diggy\\anaconda3\\lib\\site-packages (from bleach->kaggle) (23.1)\n",
      "Requirement already satisfied: webencodings in c:\\users\\diggy\\anaconda3\\lib\\site-packages (from bleach->kaggle) (0.5.1)\n",
      "Requirement already satisfied: text-unidecode>=1.3 in c:\\users\\diggy\\anaconda3\\lib\\site-packages (from python-slugify->kaggle) (1.3)\n",
      "Requirement already satisfied: charset-normalizer<4,>=2 in c:\\users\\diggy\\anaconda3\\lib\\site-packages (from requests->kaggle) (2.0.4)\n",
      "Requirement already satisfied: idna<4,>=2.5 in c:\\users\\diggy\\anaconda3\\lib\\site-packages (from requests->kaggle) (3.4)\n",
      "Requirement already satisfied: colorama in c:\\users\\diggy\\anaconda3\\lib\\site-packages (from tqdm->kaggle) (0.4.6)\n"
     ]
    }
   ],
   "source": [
    "!pip install kaggle"
   ]
  },
  {
   "cell_type": "code",
   "execution_count": 4,
   "id": "440da6e2",
   "metadata": {
    "scrolled": true
   },
   "outputs": [
    {
     "name": "stdout",
     "output_type": "stream",
     "text": [
      "texas-real-estate-trends-2024-500-listings.zip: Skipping, found more recently modified local copy (use --force to force download)\n"
     ]
    }
   ],
   "source": [
    "!kaggle datasets download -d kanchana1990/texas-real-estate-trends-2024-500-listings"
   ]
  },
  {
   "cell_type": "code",
   "execution_count": 5,
   "id": "6a146269",
   "metadata": {},
   "outputs": [
    {
     "name": "stdout",
     "output_type": "stream",
     "text": [
      "                                                 url    status          id  \\\n",
      "0  https://www.realtor.com/realestateandhomes-det...  for_sale  9773941616   \n",
      "1  https://www.realtor.com/realestateandhomes-det...  for_sale  9224923922   \n",
      "2  https://www.realtor.com/realestateandhomes-det...  for_sale  9840661824   \n",
      "3  https://www.realtor.com/realestateandhomes-det...  for_sale  7338317229   \n",
      "4  https://www.realtor.com/realestateandhomes-det...  for_sale  7285845528   \n",
      "\n",
      "   listPrice  baths  baths_full  baths_full_calc  beds    sqft  stories  \\\n",
      "0   240000.0      2         2.0              2.0   3.0  1190.0      1.0   \n",
      "1   379900.0      4         3.0              3.0   4.0  2033.0      1.0   \n",
      "2   370000.0      2         2.0              2.0   4.0  2062.0      1.0   \n",
      "3   444000.0      4         3.0              3.0   5.0  3705.0      2.0   \n",
      "4   569000.0      2         2.0              2.0   3.0  3282.0      2.0   \n",
      "\n",
      "  sub_type                                               text           type  \\\n",
      "0      NaN  Welcome home to your peaceful retreat nestled ...  single_family   \n",
      "1      NaN  Beautiful country home on 0.85 fenced acres, m...  single_family   \n",
      "2      NaN  PRICED TO SELL CORNER LOT HAS A STORM SHELTER ...  single_family   \n",
      "3      NaN  Come check out country living in the city! Are...  single_family   \n",
      "4      NaN  Welcome to your dream retreat! Nestled on over...  single_family   \n",
      "\n",
      "   year_built  \n",
      "0      2018.0  \n",
      "1      2002.0  \n",
      "2      2012.0  \n",
      "3      1985.0  \n",
      "4      1981.0  \n"
     ]
    }
   ],
   "source": [
    "data = pd.read_csv('.kaggle/texas-real-estate-trends-2024-500-listings/real_estate_texas_500_2024.csv')\n",
    "print(data.head())"
   ]
  },
  {
   "cell_type": "markdown",
   "id": "00fa0b20",
   "metadata": {},
   "source": [
    "## Data Cleaning and Transformation"
   ]
  },
  {
   "cell_type": "code",
   "execution_count": 6,
   "id": "5a965d95",
   "metadata": {},
   "outputs": [
    {
     "data": {
      "text/html": [
       "<div>\n",
       "<style scoped>\n",
       "    .dataframe tbody tr th:only-of-type {\n",
       "        vertical-align: middle;\n",
       "    }\n",
       "\n",
       "    .dataframe tbody tr th {\n",
       "        vertical-align: top;\n",
       "    }\n",
       "\n",
       "    .dataframe thead th {\n",
       "        text-align: right;\n",
       "    }\n",
       "</style>\n",
       "<table border=\"1\" class=\"dataframe\">\n",
       "  <thead>\n",
       "    <tr style=\"text-align: right;\">\n",
       "      <th></th>\n",
       "      <th>url</th>\n",
       "      <th>status</th>\n",
       "      <th>id</th>\n",
       "      <th>listPrice</th>\n",
       "      <th>baths</th>\n",
       "      <th>baths_full</th>\n",
       "      <th>baths_full_calc</th>\n",
       "      <th>beds</th>\n",
       "      <th>sqft</th>\n",
       "      <th>stories</th>\n",
       "      <th>sub_type</th>\n",
       "      <th>text</th>\n",
       "      <th>type</th>\n",
       "      <th>year_built</th>\n",
       "    </tr>\n",
       "  </thead>\n",
       "  <tbody>\n",
       "    <tr>\n",
       "      <th>0</th>\n",
       "      <td>https://www.realtor.com/realestateandhomes-det...</td>\n",
       "      <td>for_sale</td>\n",
       "      <td>9773941616</td>\n",
       "      <td>240000.0</td>\n",
       "      <td>2</td>\n",
       "      <td>2.0</td>\n",
       "      <td>2.0</td>\n",
       "      <td>3.0</td>\n",
       "      <td>1190.0</td>\n",
       "      <td>1.0</td>\n",
       "      <td>NaN</td>\n",
       "      <td>Welcome home to your peaceful retreat nestled ...</td>\n",
       "      <td>single_family</td>\n",
       "      <td>2018.0</td>\n",
       "    </tr>\n",
       "    <tr>\n",
       "      <th>1</th>\n",
       "      <td>https://www.realtor.com/realestateandhomes-det...</td>\n",
       "      <td>for_sale</td>\n",
       "      <td>9224923922</td>\n",
       "      <td>379900.0</td>\n",
       "      <td>4</td>\n",
       "      <td>3.0</td>\n",
       "      <td>3.0</td>\n",
       "      <td>4.0</td>\n",
       "      <td>2033.0</td>\n",
       "      <td>1.0</td>\n",
       "      <td>NaN</td>\n",
       "      <td>Beautiful country home on 0.85 fenced acres, m...</td>\n",
       "      <td>single_family</td>\n",
       "      <td>2002.0</td>\n",
       "    </tr>\n",
       "    <tr>\n",
       "      <th>2</th>\n",
       "      <td>https://www.realtor.com/realestateandhomes-det...</td>\n",
       "      <td>for_sale</td>\n",
       "      <td>9840661824</td>\n",
       "      <td>370000.0</td>\n",
       "      <td>2</td>\n",
       "      <td>2.0</td>\n",
       "      <td>2.0</td>\n",
       "      <td>4.0</td>\n",
       "      <td>2062.0</td>\n",
       "      <td>1.0</td>\n",
       "      <td>NaN</td>\n",
       "      <td>PRICED TO SELL CORNER LOT HAS A STORM SHELTER ...</td>\n",
       "      <td>single_family</td>\n",
       "      <td>2012.0</td>\n",
       "    </tr>\n",
       "    <tr>\n",
       "      <th>3</th>\n",
       "      <td>https://www.realtor.com/realestateandhomes-det...</td>\n",
       "      <td>for_sale</td>\n",
       "      <td>7338317229</td>\n",
       "      <td>444000.0</td>\n",
       "      <td>4</td>\n",
       "      <td>3.0</td>\n",
       "      <td>3.0</td>\n",
       "      <td>5.0</td>\n",
       "      <td>3705.0</td>\n",
       "      <td>2.0</td>\n",
       "      <td>NaN</td>\n",
       "      <td>Come check out country living in the city! Are...</td>\n",
       "      <td>single_family</td>\n",
       "      <td>1985.0</td>\n",
       "    </tr>\n",
       "    <tr>\n",
       "      <th>4</th>\n",
       "      <td>https://www.realtor.com/realestateandhomes-det...</td>\n",
       "      <td>for_sale</td>\n",
       "      <td>7285845528</td>\n",
       "      <td>569000.0</td>\n",
       "      <td>2</td>\n",
       "      <td>2.0</td>\n",
       "      <td>2.0</td>\n",
       "      <td>3.0</td>\n",
       "      <td>3282.0</td>\n",
       "      <td>2.0</td>\n",
       "      <td>NaN</td>\n",
       "      <td>Welcome to your dream retreat! Nestled on over...</td>\n",
       "      <td>single_family</td>\n",
       "      <td>1981.0</td>\n",
       "    </tr>\n",
       "    <tr>\n",
       "      <th>5</th>\n",
       "      <td>https://www.realtor.com/realestateandhomes-det...</td>\n",
       "      <td>for_sale</td>\n",
       "      <td>7550452644</td>\n",
       "      <td>875000.0</td>\n",
       "      <td>5</td>\n",
       "      <td>3.0</td>\n",
       "      <td>3.0</td>\n",
       "      <td>4.0</td>\n",
       "      <td>4873.0</td>\n",
       "      <td>2.0</td>\n",
       "      <td>NaN</td>\n",
       "      <td>Exquisite custom home nestled among mature tre...</td>\n",
       "      <td>single_family</td>\n",
       "      <td>1999.0</td>\n",
       "    </tr>\n",
       "    <tr>\n",
       "      <th>6</th>\n",
       "      <td>https://www.realtor.com/realestateandhomes-det...</td>\n",
       "      <td>for_sale</td>\n",
       "      <td>9852404810</td>\n",
       "      <td>214500.0</td>\n",
       "      <td>2</td>\n",
       "      <td>2.0</td>\n",
       "      <td>2.0</td>\n",
       "      <td>4.0</td>\n",
       "      <td>2260.0</td>\n",
       "      <td>NaN</td>\n",
       "      <td>NaN</td>\n",
       "      <td>Welcome to your spacious home in the heart of ...</td>\n",
       "      <td>single_family</td>\n",
       "      <td>2020.0</td>\n",
       "    </tr>\n",
       "    <tr>\n",
       "      <th>7</th>\n",
       "      <td>https://www.realtor.com/realestateandhomes-det...</td>\n",
       "      <td>for_sale</td>\n",
       "      <td>7370499961</td>\n",
       "      <td>184900.0</td>\n",
       "      <td>3</td>\n",
       "      <td>3.0</td>\n",
       "      <td>3.0</td>\n",
       "      <td>5.0</td>\n",
       "      <td>2109.0</td>\n",
       "      <td>1.0</td>\n",
       "      <td>NaN</td>\n",
       "      <td>Potential, Potential, Potential! This One Is A...</td>\n",
       "      <td>single_family</td>\n",
       "      <td>1956.0</td>\n",
       "    </tr>\n",
       "    <tr>\n",
       "      <th>8</th>\n",
       "      <td>https://www.realtor.com/realestateandhomes-det...</td>\n",
       "      <td>for_sale</td>\n",
       "      <td>8021215105</td>\n",
       "      <td>374900.0</td>\n",
       "      <td>2</td>\n",
       "      <td>2.0</td>\n",
       "      <td>2.0</td>\n",
       "      <td>4.0</td>\n",
       "      <td>1896.0</td>\n",
       "      <td>1.0</td>\n",
       "      <td>NaN</td>\n",
       "      <td>Welcome to country living! Spacious lot sittin...</td>\n",
       "      <td>single_family</td>\n",
       "      <td>2000.0</td>\n",
       "    </tr>\n",
       "    <tr>\n",
       "      <th>9</th>\n",
       "      <td>https://www.realtor.com/realestateandhomes-det...</td>\n",
       "      <td>for_sale</td>\n",
       "      <td>9637298240</td>\n",
       "      <td>199900.0</td>\n",
       "      <td>2</td>\n",
       "      <td>2.0</td>\n",
       "      <td>2.0</td>\n",
       "      <td>3.0</td>\n",
       "      <td>1621.0</td>\n",
       "      <td>1.0</td>\n",
       "      <td>NaN</td>\n",
       "      <td>Your family is all that's needed to fill this ...</td>\n",
       "      <td>single_family</td>\n",
       "      <td>2004.0</td>\n",
       "    </tr>\n",
       "  </tbody>\n",
       "</table>\n",
       "</div>"
      ],
      "text/plain": [
       "                                                 url    status          id  \\\n",
       "0  https://www.realtor.com/realestateandhomes-det...  for_sale  9773941616   \n",
       "1  https://www.realtor.com/realestateandhomes-det...  for_sale  9224923922   \n",
       "2  https://www.realtor.com/realestateandhomes-det...  for_sale  9840661824   \n",
       "3  https://www.realtor.com/realestateandhomes-det...  for_sale  7338317229   \n",
       "4  https://www.realtor.com/realestateandhomes-det...  for_sale  7285845528   \n",
       "5  https://www.realtor.com/realestateandhomes-det...  for_sale  7550452644   \n",
       "6  https://www.realtor.com/realestateandhomes-det...  for_sale  9852404810   \n",
       "7  https://www.realtor.com/realestateandhomes-det...  for_sale  7370499961   \n",
       "8  https://www.realtor.com/realestateandhomes-det...  for_sale  8021215105   \n",
       "9  https://www.realtor.com/realestateandhomes-det...  for_sale  9637298240   \n",
       "\n",
       "   listPrice  baths  baths_full  baths_full_calc  beds    sqft  stories  \\\n",
       "0   240000.0      2         2.0              2.0   3.0  1190.0      1.0   \n",
       "1   379900.0      4         3.0              3.0   4.0  2033.0      1.0   \n",
       "2   370000.0      2         2.0              2.0   4.0  2062.0      1.0   \n",
       "3   444000.0      4         3.0              3.0   5.0  3705.0      2.0   \n",
       "4   569000.0      2         2.0              2.0   3.0  3282.0      2.0   \n",
       "5   875000.0      5         3.0              3.0   4.0  4873.0      2.0   \n",
       "6   214500.0      2         2.0              2.0   4.0  2260.0      NaN   \n",
       "7   184900.0      3         3.0              3.0   5.0  2109.0      1.0   \n",
       "8   374900.0      2         2.0              2.0   4.0  1896.0      1.0   \n",
       "9   199900.0      2         2.0              2.0   3.0  1621.0      1.0   \n",
       "\n",
       "  sub_type                                               text           type  \\\n",
       "0      NaN  Welcome home to your peaceful retreat nestled ...  single_family   \n",
       "1      NaN  Beautiful country home on 0.85 fenced acres, m...  single_family   \n",
       "2      NaN  PRICED TO SELL CORNER LOT HAS A STORM SHELTER ...  single_family   \n",
       "3      NaN  Come check out country living in the city! Are...  single_family   \n",
       "4      NaN  Welcome to your dream retreat! Nestled on over...  single_family   \n",
       "5      NaN  Exquisite custom home nestled among mature tre...  single_family   \n",
       "6      NaN  Welcome to your spacious home in the heart of ...  single_family   \n",
       "7      NaN  Potential, Potential, Potential! This One Is A...  single_family   \n",
       "8      NaN  Welcome to country living! Spacious lot sittin...  single_family   \n",
       "9      NaN  Your family is all that's needed to fill this ...  single_family   \n",
       "\n",
       "   year_built  \n",
       "0      2018.0  \n",
       "1      2002.0  \n",
       "2      2012.0  \n",
       "3      1985.0  \n",
       "4      1981.0  \n",
       "5      1999.0  \n",
       "6      2020.0  \n",
       "7      1956.0  \n",
       "8      2000.0  \n",
       "9      2004.0  "
      ]
     },
     "metadata": {},
     "output_type": "display_data"
    }
   ],
   "source": [
    "display(data.head(10))"
   ]
  },
  {
   "cell_type": "code",
   "execution_count": 7,
   "id": "7d465783",
   "metadata": {},
   "outputs": [
    {
     "data": {
      "text/plain": [
       "0"
      ]
     },
     "execution_count": 7,
     "metadata": {},
     "output_type": "execute_result"
    }
   ],
   "source": [
    "data.duplicated().sum()"
   ]
  },
  {
   "cell_type": "code",
   "execution_count": 8,
   "id": "85767a95",
   "metadata": {},
   "outputs": [],
   "source": [
    "# fill missing listing price values with the mean\n",
    "data['listPrice'] = data['listPrice'].fillna(data['listPrice'].mean())\n",
    "\n",
    "# drop 'baths_full_calc' to reduce redundancy, and increase legibility. \n",
    "data.drop(columns = ['baths_full_calc'], inplace = True)\n",
    "\n",
    "# drop 'url' due to irrelevance to analysis \n",
    "data.drop(columns = ['url'], inplace=True)\n",
    "\n",
    "# drop 'text' as it is irrelevant to analysis\n",
    "data.drop(columns = ['text'], inplace=True)\n",
    "\n",
    "# drop 'sub_type' as it is irrelevant to analysis \n",
    "data.drop(columns = ['sub_type'], inplace=True)"
   ]
  },
  {
   "cell_type": "code",
   "execution_count": 9,
   "id": "984238c4",
   "metadata": {},
   "outputs": [
    {
     "name": "stdout",
     "output_type": "stream",
     "text": [
      "<class 'pandas.core.frame.DataFrame'>\n",
      "RangeIndex: 501 entries, 0 to 500\n",
      "Data columns (total 10 columns):\n",
      " #   Column      Non-Null Count  Dtype  \n",
      "---  ------      --------------  -----  \n",
      " 0   status      501 non-null    object \n",
      " 1   id          501 non-null    int64  \n",
      " 2   listPrice   501 non-null    float64\n",
      " 3   baths       501 non-null    int64  \n",
      " 4   baths_full  436 non-null    float64\n",
      " 5   beds        440 non-null    float64\n",
      " 6   sqft        438 non-null    float64\n",
      " 7   stories     391 non-null    float64\n",
      " 8   type        501 non-null    object \n",
      " 9   year_built  289 non-null    float64\n",
      "dtypes: float64(6), int64(2), object(2)\n",
      "memory usage: 39.3+ KB\n"
     ]
    }
   ],
   "source": [
    "data.head(10)\n",
    "data.info()"
   ]
  },
  {
   "cell_type": "markdown",
   "id": "069e6617",
   "metadata": {},
   "source": [
    "# Analysis"
   ]
  },
  {
   "cell_type": "markdown",
   "id": "f96ced42",
   "metadata": {},
   "source": [
    "## Histograms of Variables"
   ]
  },
  {
   "cell_type": "code",
   "execution_count": 10,
   "id": "e7b8aad7",
   "metadata": {},
   "outputs": [],
   "source": [
    "from scipy.stats import iqr"
   ]
  },
  {
   "cell_type": "markdown",
   "id": "8fd7f506",
   "metadata": {},
   "source": [
    "### List Price"
   ]
  },
  {
   "cell_type": "code",
   "execution_count": 11,
   "id": "3dfe5dae",
   "metadata": {},
   "outputs": [
    {
     "data": {
      "image/png": "[encoded data removed]",
      "text/plain": [
       "<Figure size 1000x600 with 1 Axes>"
      ]
     },
     "metadata": {},
     "output_type": "display_data"
    }
   ],
   "source": [
    "mtplt.figure(figsize = (10,6))\n",
    "sb.histplot(data['listPrice'], bins = 150, kde = True)\n",
    "mtplt.title('Distribution of Listing Prices')\n",
    "mtplt.xlabel('Listing Price (millions $)')\n",
    "mtplt.ylabel('Frequency')\n",
    "mtplt.xlim(8000,3500000)\n",
    "mtplt.show()"
   ]
  },
  {
   "cell_type": "code",
   "execution_count": 81,
   "id": "c83abcab",
   "metadata": {},
   "outputs": [
    {
     "data": {
      "text/plain": [
       "1318409.2650517768"
      ]
     },
     "execution_count": 81,
     "metadata": {},
     "output_type": "execute_result"
    }
   ],
   "source": [
    "listprice = data['listPrice']\n",
    "lpmean = listprice.mean()\n",
    "    # $510,668.58\n",
    "lpmode = listprice.mode()\n",
    "    # $250,000.00\n",
    "lpsd = listprice.std()\n",
    "    # $1,318,409.27"
   ]
  },
  {
   "cell_type": "markdown",
   "id": "a6a841a0",
   "metadata": {},
   "source": [
    "### Square Feet"
   ]
  },
  {
   "cell_type": "code",
   "execution_count": 13,
   "id": "4db827cc",
   "metadata": {},
   "outputs": [
    {
     "data": {
      "image/png": "[encoded data removed]",
      "text/plain": [
       "<Figure size 1000x600 with 1 Axes>"
      ]
     },
     "metadata": {},
     "output_type": "display_data"
    }
   ],
   "source": [
    "mtplt.figure(figsize = (10,6))\n",
    "sb.histplot(data['sqft'], bins = 100, kde = True)\n",
    "mtplt.title('Distribution of Square Feet')\n",
    "mtplt.xlabel('Square Feet')\n",
    "mtplt.ylabel('Frequency')\n",
    "mtplt.xlim(0,10000)\n",
    "mtplt.show()"
   ]
  },
  {
   "cell_type": "code",
   "execution_count": 83,
   "id": "c37e419f",
   "metadata": {},
   "outputs": [
    {
     "data": {
      "text/plain": [
       "3220.2449852955056"
      ]
     },
     "execution_count": 83,
     "metadata": {},
     "output_type": "execute_result"
    }
   ],
   "source": [
    "sqft = data['sqft']\n",
    "sqftmean = sqft.mean()\n",
    "    # 1560 sqft\n",
    "sqftmode = sqft.mode()\n",
    "    # 2060 sqft\n",
    "sqftsd = sqft.std()\n",
    "    #3220 sqft"
   ]
  },
  {
   "cell_type": "markdown",
   "id": "e1a26835",
   "metadata": {},
   "source": [
    "### Bedrooms"
   ]
  },
  {
   "cell_type": "code",
   "execution_count": 15,
   "id": "4d5f1b80",
   "metadata": {},
   "outputs": [
    {
     "data": {
      "image/png": "[encoded data removed]",
      "text/plain": [
       "<Figure size 1000x600 with 1 Axes>"
      ]
     },
     "metadata": {},
     "output_type": "display_data"
    }
   ],
   "source": [
    "mtplt.figure(figsize = (10,6))\n",
    "sb.histplot(data['beds'], bins = 9, kde = True)\n",
    "mtplt.title('Distribution of Number of Bedrooms')\n",
    "mtplt.xlabel('Number of Bedrooms')\n",
    "mtplt.ylabel('Frequency')\n",
    "mtplt.xlim(1,8)\n",
    "mtplt.show()"
   ]
  },
  {
   "cell_type": "code",
   "execution_count": 86,
   "id": "c7d3c8dd",
   "metadata": {},
   "outputs": [],
   "source": [
    "beds = data['beds']\n",
    "bedsmean = beds.mean()\n",
    "   # 3.5 beds\n",
    "bedsmode = beds.mode()\n",
    "    # 3.0 beds\n",
    "bedssd = beds.std()\n",
    "    # 0.9 beds"
   ]
  },
  {
   "cell_type": "markdown",
   "id": "18de45a3",
   "metadata": {},
   "source": [
    "### Year Built"
   ]
  },
  {
   "cell_type": "code",
   "execution_count": 17,
   "id": "875e78ec",
   "metadata": {},
   "outputs": [
    {
     "data": {
      "image/png": "[encoded data removed]",
      "text/plain": [
       "<Figure size 1000x600 with 1 Axes>"
      ]
     },
     "metadata": {},
     "output_type": "display_data"
    }
   ],
   "source": [
    "mtplt.figure(figsize = (10, 6))\n",
    "sb.histplot(data['year_built'], bins = 30, kde = True)\n",
    "mtplt.title('Distribution of Year Built')\n",
    "mtplt.xlabel('Year')\n",
    "mtplt.ylabel('Frequency')\n",
    "mtplt.xlim(1890, 2025)\n",
    "mtplt.show()"
   ]
  },
  {
   "cell_type": "code",
   "execution_count": 88,
   "id": "d1955c48",
   "metadata": {},
   "outputs": [
    {
     "data": {
      "text/plain": [
       "25.400942438778966"
      ]
     },
     "execution_count": 88,
     "metadata": {},
     "output_type": "execute_result"
    }
   ],
   "source": [
    "yearbuilt = data['year_built']\n",
    "yb_mean = yearbuilt.mean()\n",
    "    # 1999\n",
    "yb_mode = yearbuilt.mode()\n",
    "    # 2024\n",
    "yb_sd = yearbuilt.std()\n",
    "    # 25.4 years"
   ]
  },
  {
   "cell_type": "markdown",
   "id": "4a31392f",
   "metadata": {},
   "source": [
    "### Bathrooms"
   ]
  },
  {
   "cell_type": "code",
   "execution_count": 19,
   "id": "14c6ce9a",
   "metadata": {},
   "outputs": [
    {
     "data": {
      "image/png": "[encoded data removed]",
      "text/plain": [
       "<Figure size 1000x600 with 1 Axes>"
      ]
     },
     "metadata": {},
     "output_type": "display_data"
    }
   ],
   "source": [
    "mtplt.figure(figsize=(10,6))\n",
    "sb.histplot(data['baths'], bins = 8, kde = True)\n",
    "mtplt.title('Distribution of Number of Bathrooms')\n",
    "mtplt.xlabel('Number of Bathrooms')\n",
    "mtplt.ylabel('Frequency')\n",
    "mtplt.xlim(0, 8)\n",
    "mtplt.show()"
   ]
  },
  {
   "cell_type": "code",
   "execution_count": 91,
   "id": "9d205a2e",
   "metadata": {},
   "outputs": [],
   "source": [
    "baths = data['baths']\n",
    "baths_mean = baths.mean()\n",
    "    # 2.3 bathrooms\n",
    "baths_mode = baths.mode()\n",
    "    # 2 bathrooms \n",
    "baths_sd = baths.std()\n",
    "    # 1.3 bathrooms"
   ]
  },
  {
   "cell_type": "markdown",
   "id": "60d77b90",
   "metadata": {},
   "source": [
    "### Property Types"
   ]
  },
  {
   "cell_type": "code",
   "execution_count": 21,
   "id": "ec5f7e75",
   "metadata": {},
   "outputs": [
    {
     "data": {
      "text/html": [
       "<div>\n",
       "<style scoped>\n",
       "    .dataframe tbody tr th:only-of-type {\n",
       "        vertical-align: middle;\n",
       "    }\n",
       "\n",
       "    .dataframe tbody tr th {\n",
       "        vertical-align: top;\n",
       "    }\n",
       "\n",
       "    .dataframe thead th {\n",
       "        text-align: right;\n",
       "    }\n",
       "</style>\n",
       "<table border=\"1\" class=\"dataframe\">\n",
       "  <thead>\n",
       "    <tr style=\"text-align: right;\">\n",
       "      <th></th>\n",
       "      <th>Property Type</th>\n",
       "      <th>Count</th>\n",
       "    </tr>\n",
       "  </thead>\n",
       "  <tbody>\n",
       "    <tr>\n",
       "      <th>0</th>\n",
       "      <td>single_family</td>\n",
       "      <td>402</td>\n",
       "    </tr>\n",
       "    <tr>\n",
       "      <th>1</th>\n",
       "      <td>land</td>\n",
       "      <td>49</td>\n",
       "    </tr>\n",
       "    <tr>\n",
       "      <th>2</th>\n",
       "      <td>farm</td>\n",
       "      <td>26</td>\n",
       "    </tr>\n",
       "    <tr>\n",
       "      <th>3</th>\n",
       "      <td>mobile</td>\n",
       "      <td>12</td>\n",
       "    </tr>\n",
       "    <tr>\n",
       "      <th>4</th>\n",
       "      <td>townhomes</td>\n",
       "      <td>6</td>\n",
       "    </tr>\n",
       "    <tr>\n",
       "      <th>5</th>\n",
       "      <td>condos</td>\n",
       "      <td>5</td>\n",
       "    </tr>\n",
       "    <tr>\n",
       "      <th>6</th>\n",
       "      <td>multi_family</td>\n",
       "      <td>1</td>\n",
       "    </tr>\n",
       "  </tbody>\n",
       "</table>\n",
       "</div>"
      ],
      "text/plain": [
       "   Property Type  Count\n",
       "0  single_family    402\n",
       "1           land     49\n",
       "2           farm     26\n",
       "3         mobile     12\n",
       "4      townhomes      6\n",
       "5         condos      5\n",
       "6   multi_family      1"
      ]
     },
     "execution_count": 21,
     "metadata": {},
     "output_type": "execute_result"
    },
    {
     "data": {
      "image/png": "[encoded data removed]",
      "text/plain": [
       "<Figure size 1000x600 with 1 Axes>"
      ]
     },
     "metadata": {},
     "output_type": "display_data"
    }
   ],
   "source": [
    "mtplt.figure(figsize = (10,6))\n",
    "sb.countplot(y = 'type', data = data, palette = 'Set2')\n",
    "mtplt.title('Count of Property Types')\n",
    "mtplt.xlabel('Count')\n",
    "mtplt.ylabel('Property Type')\n",
    "mtplt.show\n",
    "\n",
    "type_counts = data['type'].value_counts().reset_index()\n",
    "type_counts.columns = ['Property Type', 'Count']\n",
    "type_counts"
   ]
  },
  {
   "cell_type": "markdown",
   "id": "c43b4e1b",
   "metadata": {},
   "source": [
    "## PMF"
   ]
  },
  {
   "cell_type": "code",
   "execution_count": 59,
   "id": "85b57f88",
   "metadata": {},
   "outputs": [],
   "source": [
    "import numpy as np\n",
    "import pandas as pd\n",
    "import matplotlib.pyplot as mtplt\n",
    "from empiricaldist import Cdf, Pmf"
   ]
  },
  {
   "cell_type": "code",
   "execution_count": 65,
   "id": "501b5e5c",
   "metadata": {},
   "outputs": [
    {
     "data": {
      "image/png": "[encoded data removed]",
      "text/plain": [
       "<Figure size 640x480 with 1 Axes>"
      ]
     },
     "metadata": {},
     "output_type": "display_data"
    }
   ],
   "source": [
    "fig, ax = mtplt.subplots()\n",
    "\n",
    "year = data['year_built']\n",
    "pre2000 = year < 2000\n",
    "\n",
    "pmf_year = Pmf.from_seq(pre2000)\n",
    "pmf_year.bar()\n",
    "\n",
    "ax.set(title='PMF of Year Built',\n",
    "      xlabel = 'Pre-2000 vs Post-2000',\n",
    "      ylabel = 'PMF')\n",
    "\n",
    "mtplt.xticks([])\n",
    "mtplt.show()"
   ]
  },
  {
   "cell_type": "markdown",
   "id": "f5a03ba7",
   "metadata": {},
   "source": [
    "## CDF"
   ]
  },
  {
   "cell_type": "code",
   "execution_count": 66,
   "id": "4c0828cb",
   "metadata": {},
   "outputs": [],
   "source": [
    "def EvalCdf(sample, x):\n",
    "    count = 0.0\n",
    "    for value in sample:\n",
    "        if value <= x:\n",
    "            count += 1\n",
    "    prob = count / len(sample)\n",
    "    return prob"
   ]
  },
  {
   "cell_type": "code",
   "execution_count": 67,
   "id": "e7b4a198",
   "metadata": {},
   "outputs": [
    {
     "data": {
      "image/png": "[encoded data removed]",
      "text/plain": [
       "<Figure size 640x480 with 1 Axes>"
      ]
     },
     "metadata": {},
     "output_type": "display_data"
    }
   ],
   "source": [
    "price = data['listPrice']\n",
    "cdf = ts2.Cdf(price, label = 'list price')\n",
    "tp.Cdf(cdf)\n",
    "tp.Config(xlabel = 'Listing Price (millions $)', ylabel = 'CDF', loc = 'upper left', xlim = [0, 2000000])"
   ]
  },
  {
   "cell_type": "code",
   "execution_count": 68,
   "id": "fbcb020d",
   "metadata": {},
   "outputs": [
    {
     "data": {
      "text/plain": [
       "0.9461077844311377"
      ]
     },
     "execution_count": 68,
     "metadata": {},
     "output_type": "execute_result"
    }
   ],
   "source": [
    "cdf.Prob(1000000)"
   ]
  },
  {
   "cell_type": "code",
   "execution_count": 69,
   "id": "262c02ab",
   "metadata": {},
   "outputs": [
    {
     "data": {
      "text/plain": [
       "374990.0"
      ]
     },
     "execution_count": 69,
     "metadata": {},
     "output_type": "execute_result"
    }
   ],
   "source": [
    "cdf.Value(0.5)"
   ]
  },
  {
   "cell_type": "markdown",
   "id": "b991ea07",
   "metadata": {},
   "source": [
    "## Scatter Plots"
   ]
  },
  {
   "cell_type": "markdown",
   "id": "b750f179",
   "metadata": {},
   "source": [
    "### Square Feet versus Listing Price"
   ]
  },
  {
   "cell_type": "code",
   "execution_count": 70,
   "id": "6c607a64",
   "metadata": {},
   "outputs": [],
   "source": [
    "%matplotlib inline\n",
    "import matplotlib.pyplot as mtplt\n",
    "import numpy as np"
   ]
  },
  {
   "cell_type": "code",
   "execution_count": 76,
   "id": "748cbb6e",
   "metadata": {},
   "outputs": [
    {
     "data": {
      "text/plain": [
       "<function matplotlib.pyplot.show(close=None, block=None)>"
      ]
     },
     "execution_count": 76,
     "metadata": {},
     "output_type": "execute_result"
    },
    {
     "data": {
      "image/png": "[encoded data removed]",
      "text/plain": [
       "<Figure size 640x480 with 1 Axes>"
      ]
     },
     "metadata": {},
     "output_type": "display_data"
    }
   ],
   "source": [
    "price = data['listPrice']\n",
    "sqft = data['sqft']\n",
    "\n",
    "mtplt.scatter(price, sqft)\n",
    "mtplt.xlabel('Listing Price (millions $)')\n",
    "mtplt.ylabel('Square Feet')\n",
    "mtplt.show"
   ]
  },
  {
   "cell_type": "markdown",
   "id": "47a518da",
   "metadata": {},
   "source": [
    "### Bedrooms versus Square Footage"
   ]
  },
  {
   "cell_type": "code",
   "execution_count": 497,
   "id": "ac9d9ada",
   "metadata": {},
   "outputs": [
    {
     "data": {
      "text/plain": [
       "<function matplotlib.pyplot.show(close=None, block=None)>"
      ]
     },
     "execution_count": 497,
     "metadata": {},
     "output_type": "execute_result"
    },
    {
     "data": {
      "image/png": "[encoded data removed]",
      "text/plain": [
       "<Figure size 640x480 with 1 Axes>"
      ]
     },
     "metadata": {},
     "output_type": "display_data"
    }
   ],
   "source": [
    "beds = data['beds']\n",
    "baths = data['baths_full']\n",
    "mtplt.scatter(beds, baths)\n",
    "mtplt.xlabel('Bedrooms')\n",
    "mtplt.ylabel('Bathrooms')\n",
    "mtplt.show"
   ]
  },
  {
   "cell_type": "markdown",
   "id": "79507dd4",
   "metadata": {},
   "source": [
    "## Hypothesis Test"
   ]
  },
  {
   "cell_type": "markdown",
   "id": "07a9862a",
   "metadata": {},
   "source": [
    "H0 = Listing price and square footage are dependent on each other. \n",
    "\n",
    "H1 = Listing price and square footage are independent of each other. "
   ]
  },
  {
   "cell_type": "code",
   "execution_count": 527,
   "id": "3073ceb6",
   "metadata": {},
   "outputs": [],
   "source": [
    "import random\n",
    "import numpy as np\n",
    "import thinkstats2 as ts2\n",
    "import thinkplot as tp"
   ]
  },
  {
   "cell_type": "code",
   "execution_count": 533,
   "id": "d6c8e3e3",
   "metadata": {},
   "outputs": [
    {
     "data": {
      "text/html": [
       "<div>\n",
       "<style scoped>\n",
       "    .dataframe tbody tr th:only-of-type {\n",
       "        vertical-align: middle;\n",
       "    }\n",
       "\n",
       "    .dataframe tbody tr th {\n",
       "        vertical-align: top;\n",
       "    }\n",
       "\n",
       "    .dataframe thead th {\n",
       "        text-align: right;\n",
       "    }\n",
       "</style>\n",
       "<table border=\"1\" class=\"dataframe\">\n",
       "  <thead>\n",
       "    <tr style=\"text-align: right;\">\n",
       "      <th></th>\n",
       "      <th>listPrice</th>\n",
       "      <th>sqft</th>\n",
       "    </tr>\n",
       "  </thead>\n",
       "  <tbody>\n",
       "    <tr>\n",
       "      <th>0</th>\n",
       "      <td>19000.0</td>\n",
       "      <td>971.0</td>\n",
       "    </tr>\n",
       "    <tr>\n",
       "      <th>1</th>\n",
       "      <td>60000.0</td>\n",
       "      <td>792.0</td>\n",
       "    </tr>\n",
       "    <tr>\n",
       "      <th>2</th>\n",
       "      <td>65000.0</td>\n",
       "      <td>2020.0</td>\n",
       "    </tr>\n",
       "    <tr>\n",
       "      <th>3</th>\n",
       "      <td>72000.0</td>\n",
       "      <td>1235.0</td>\n",
       "    </tr>\n",
       "    <tr>\n",
       "      <th>4</th>\n",
       "      <td>89900.0</td>\n",
       "      <td>1276.0</td>\n",
       "    </tr>\n",
       "    <tr>\n",
       "      <th>...</th>\n",
       "      <td>...</td>\n",
       "      <td>...</td>\n",
       "    </tr>\n",
       "    <tr>\n",
       "      <th>429</th>\n",
       "      <td>1625000.0</td>\n",
       "      <td>2652.0</td>\n",
       "    </tr>\n",
       "    <tr>\n",
       "      <th>430</th>\n",
       "      <td>1675000.0</td>\n",
       "      <td>3702.0</td>\n",
       "    </tr>\n",
       "    <tr>\n",
       "      <th>431</th>\n",
       "      <td>2500000.0</td>\n",
       "      <td>3090.0</td>\n",
       "    </tr>\n",
       "    <tr>\n",
       "      <th>432</th>\n",
       "      <td>2800000.0</td>\n",
       "      <td>4000.0</td>\n",
       "    </tr>\n",
       "    <tr>\n",
       "      <th>433</th>\n",
       "      <td>2875000.0</td>\n",
       "      <td>3766.0</td>\n",
       "    </tr>\n",
       "  </tbody>\n",
       "</table>\n",
       "<p>434 rows × 2 columns</p>\n",
       "</div>"
      ],
      "text/plain": [
       "     listPrice    sqft\n",
       "0      19000.0   971.0\n",
       "1      60000.0   792.0\n",
       "2      65000.0  2020.0\n",
       "3      72000.0  1235.0\n",
       "4      89900.0  1276.0\n",
       "..         ...     ...\n",
       "429  1625000.0  2652.0\n",
       "430  1675000.0  3702.0\n",
       "431  2500000.0  3090.0\n",
       "432  2800000.0  4000.0\n",
       "433  2875000.0  3766.0\n",
       "\n",
       "[434 rows x 2 columns]"
      ]
     },
     "execution_count": 533,
     "metadata": {},
     "output_type": "execute_result"
    }
   ],
   "source": [
    "tempdf = data.groupby(['listPrice', 'sqft']).size().reset_index(name = 'Count')\n",
    "price_sqft_data = tempdf.drop('Count', axis = 1)\n",
    "price_sqft_data"
   ]
  },
  {
   "cell_type": "code",
   "execution_count": 536,
   "id": "4e66d722",
   "metadata": {},
   "outputs": [
    {
     "name": "stdout",
     "output_type": "stream",
     "text": [
      "Expected Frequencies: [[1.98707500e+04 1.00250000e+02]\n",
      " [6.04868400e+04 3.05160000e+02]\n",
      " [6.66835700e+04 3.36430000e+02]\n",
      " [7.28673800e+04 3.67620000e+02]\n",
      " [9.07183200e+04 4.57680000e+02]\n",
      " [9.52395100e+04 4.80490000e+02]\n",
      " [1.09798060e+05 5.53940000e+02]\n",
      " [1.10414950e+05 5.57050000e+02]\n",
      " [1.10466680e+05 5.57320000e+02]\n",
      " [1.16018670e+05 5.85330000e+02]\n",
      " [1.25082940e+05 6.31060000e+02]\n",
      " [1.26338610e+05 6.37390000e+02]\n",
      " [1.29403150e+05 6.52850000e+02]\n",
      " [1.30630950e+05 6.59050000e+02]\n",
      " [1.31466740e+05 6.63260000e+02]\n",
      " [1.35122290e+05 6.81710000e+02]\n",
      " [1.40227540e+05 7.07460000e+02]\n",
      " [1.40272310e+05 7.07690000e+02]\n",
      " [1.49823130e+05 7.55870000e+02]\n",
      " [1.50799200e+05 7.60800000e+02]\n",
      " [1.50925560e+05 7.61440000e+02]\n",
      " [1.55471630e+05 7.84370000e+02]\n",
      " [1.60394790e+05 8.09210000e+02]\n",
      " [1.61377830e+05 8.14170000e+02]\n",
      " [1.69989390e+05 8.57610000e+02]\n",
      " [1.70149580e+05 8.58420000e+02]\n",
      " [1.70153560e+05 8.58440000e+02]\n",
      " [1.70384390e+05 8.59610000e+02]\n",
      " [1.77166180e+05 8.93820000e+02]\n",
      " [1.80116290e+05 9.08710000e+02]\n",
      " [1.80479460e+05 9.10540000e+02]\n",
      " [1.80612790e+05 9.11210000e+02]\n",
      " [1.80833680e+05 9.12320000e+02]\n",
      " [1.84079300e+05 9.28700000e+02]\n",
      " [1.86070260e+05 9.38740000e+02]\n",
      " [1.85474260e+05 9.35740000e+02]\n",
      " [1.90051170e+05 9.58830000e+02]\n",
      " [1.90618310e+05 9.61690000e+02]\n",
      " [1.91888900e+05 9.68100000e+02]\n",
      " [1.97782170e+05 9.97830000e+02]\n",
      " [1.97790130e+05 9.97870000e+02]\n",
      " [1.99135340e+05 1.00466000e+03]\n",
      " [2.00063660e+05 1.00934000e+03]\n",
      " [2.00509410e+05 1.01159000e+03]\n",
      " [2.01047690e+05 1.01431000e+03]\n",
      " [2.07241450e+05 1.04555000e+03]\n",
      " [2.09252300e+05 1.05570000e+03]\n",
      " [2.09479160e+05 1.05684000e+03]\n",
      " [2.10188580e+05 1.06042000e+03]\n",
      " [2.11950690e+05 1.06931000e+03]\n",
      " [2.15671910e+05 1.08809000e+03]\n",
      " [2.14684890e+05 1.08311000e+03]\n",
      " [2.15367450e+05 1.08655000e+03]\n",
      " [2.20139370e+05 1.11063000e+03]\n",
      " [2.19393140e+05 1.10686000e+03]\n",
      " [2.20189120e+05 1.11088000e+03]\n",
      " [2.25207800e+05 1.13620000e+03]\n",
      " [2.29887200e+05 1.15980000e+03]\n",
      " [2.29951870e+05 1.16013000e+03]\n",
      " [2.30347870e+05 1.16213000e+03]\n",
      " [2.30364790e+05 1.16221000e+03]\n",
      " [2.34165610e+05 1.18139000e+03]\n",
      " [2.37009260e+05 1.19574000e+03]\n",
      " [2.37871910e+05 1.20009000e+03]\n",
      " [2.39979280e+05 1.21072000e+03]\n",
      " [2.40287720e+05 1.21228000e+03]\n",
      " [2.45574050e+05 1.23895000e+03]\n",
      " [2.50002710e+05 1.26129000e+03]\n",
      " [2.50705170e+05 1.26483000e+03]\n",
      " [2.50481300e+05 1.26370000e+03]\n",
      " [2.50206680e+05 1.26232000e+03]\n",
      " [2.50476320e+05 1.26368000e+03]\n",
      " [2.50551940e+05 1.26406000e+03]\n",
      " [2.50910130e+05 1.26587000e+03]\n",
      " [2.55709920e+05 1.29008000e+03]\n",
      " [2.50782770e+05 1.26523000e+03]\n",
      " [2.52032470e+05 1.27153000e+03]\n",
      " [2.54632350e+05 1.28465000e+03]\n",
      " [2.55180590e+05 1.28741000e+03]\n",
      " [2.54998510e+05 1.28649000e+03]\n",
      " [2.55229340e+05 1.28766000e+03]\n",
      " [2.56098950e+05 1.29205000e+03]\n",
      " [2.59210260e+05 1.30774000e+03]\n",
      " [2.59449050e+05 1.30895000e+03]\n",
      " [2.59973410e+05 1.31159000e+03]\n",
      " [2.59978380e+05 1.31162000e+03]\n",
      " [2.59766450e+05 1.31055000e+03]\n",
      " [2.60294790e+05 1.31321000e+03]\n",
      " [2.64449820e+05 1.33418000e+03]\n",
      " [2.65182130e+05 1.33787000e+03]\n",
      " [2.65560220e+05 1.33978000e+03]\n",
      " [2.69964000e+05 1.36200000e+03]\n",
      " [2.70113250e+05 1.36275000e+03]\n",
      " [2.70571940e+05 1.36506000e+03]\n",
      " [2.70336130e+05 1.36387000e+03]\n",
      " [2.70040620e+05 1.36238000e+03]\n",
      " [2.69971960e+05 1.36204000e+03]\n",
      " [2.70730140e+05 1.36586000e+03]\n",
      " [2.72826560e+05 1.37644000e+03]\n",
      " [2.74179730e+05 1.38327000e+03]\n",
      " [2.74968750e+05 1.38725000e+03]\n",
      " [2.75022480e+05 1.38752000e+03]\n",
      " [2.74911050e+05 1.38695000e+03]\n",
      " [2.75074220e+05 1.38778000e+03]\n",
      " [2.75586640e+05 1.39036000e+03]\n",
      " [2.79161600e+05 1.40840000e+03]\n",
      " [2.80208320e+05 1.41368000e+03]\n",
      " [2.80051110e+05 1.41289000e+03]\n",
      " [2.80206330e+05 1.41367000e+03]\n",
      " [2.81030170e+05 1.41783000e+03]\n",
      " [2.80973460e+05 1.41754000e+03]\n",
      " [2.82691790e+05 1.42621000e+03]\n",
      " [2.83153460e+05 1.42854000e+03]\n",
      " [2.85312570e+05 1.43943000e+03]\n",
      " [2.87732360e+05 1.45164000e+03]\n",
      " [2.89220850e+05 1.45915000e+03]\n",
      " [2.89599940e+05 1.46106000e+03]\n",
      " [2.90050660e+05 1.46334000e+03]\n",
      " [2.89934250e+05 1.46275000e+03]\n",
      " [2.91733180e+05 1.47182000e+03]\n",
      " [2.93026650e+05 1.47835000e+03]\n",
      " [2.94284310e+05 1.48469000e+03]\n",
      " [2.95393710e+05 1.49029000e+03]\n",
      " [2.95351920e+05 1.49008000e+03]\n",
      " [2.95850400e+05 1.49260000e+03]\n",
      " [2.96438440e+05 1.49556000e+03]\n",
      " [2.97264270e+05 1.49973000e+03]\n",
      " [2.97797580e+05 1.50242000e+03]\n",
      " [2.98255270e+05 1.50473000e+03]\n",
      " [2.98726890e+05 1.50711000e+03]\n",
      " [2.99751720e+05 1.51228000e+03]\n",
      " [3.00754660e+05 1.51734000e+03]\n",
      " [3.00045240e+05 1.51376000e+03]\n",
      " [3.00060170e+05 1.51383000e+03]\n",
      " [3.00356670e+05 1.51533000e+03]\n",
      " [3.00533780e+05 1.51622000e+03]\n",
      " [3.05627080e+05 1.54192000e+03]\n",
      " [3.05390270e+05 1.54073000e+03]\n",
      " [3.05108690e+05 1.53931000e+03]\n",
      " [3.07615050e+05 1.55195000e+03]\n",
      " [3.09138360e+05 1.55964000e+03]\n",
      " [3.10987040e+05 1.56896000e+03]\n",
      " [3.14472450e+05 1.58655000e+03]\n",
      " [3.16389780e+05 1.59622000e+03]\n",
      " [3.17221580e+05 1.60042000e+03]\n",
      " [3.16808670e+05 1.59833000e+03]\n",
      " [3.17583760e+05 1.60224000e+03]\n",
      " [3.18667290e+05 1.60771000e+03]\n",
      " [3.20053300e+05 1.61470000e+03]\n",
      " [3.20311000e+05 1.61600000e+03]\n",
      " [3.19901070e+05 1.61393000e+03]\n",
      " [3.24451110e+05 1.63689000e+03]\n",
      " [3.24803330e+05 1.63867000e+03]\n",
      " [3.25095860e+05 1.64014000e+03]\n",
      " [3.25219240e+05 1.64076000e+03]\n",
      " [3.25271970e+05 1.64103000e+03]\n",
      " [3.30010060e+05 1.66494000e+03]\n",
      " [3.31072700e+05 1.67030000e+03]\n",
      " [3.31703520e+05 1.67348000e+03]\n",
      " [3.33138280e+05 1.68072000e+03]\n",
      " [3.36135160e+05 1.69584000e+03]\n",
      " [3.36045610e+05 1.69539000e+03]\n",
      " [3.36171980e+05 1.69602000e+03]\n",
      " [3.39106170e+05 1.71083000e+03]\n",
      " [3.38546000e+05 1.70800000e+03]\n",
      " [3.39221590e+05 1.71141000e+03]\n",
      " [3.39724060e+05 1.71394000e+03]\n",
      " [3.39887230e+05 1.71477000e+03]\n",
      " [3.40300150e+05 1.71685000e+03]\n",
      " [3.40415570e+05 1.71743000e+03]\n",
      " [3.40811570e+05 1.71943000e+03]\n",
      " [3.40895150e+05 1.71985000e+03]\n",
      " [3.43701990e+05 1.73401000e+03]\n",
      " [3.45425290e+05 1.74271000e+03]\n",
      " [3.47460030e+05 1.75297000e+03]\n",
      " [3.48006270e+05 1.75573000e+03]\n",
      " [3.50519590e+05 1.76841000e+03]\n",
      " [3.49675850e+05 1.76415000e+03]\n",
      " [3.49978320e+05 1.76568000e+03]\n",
      " [3.50404170e+05 1.76783000e+03]\n",
      " [3.51720530e+05 1.77447000e+03]\n",
      " [3.50468850e+05 1.76815000e+03]\n",
      " [3.51685710e+05 1.77429000e+03]\n",
      " [3.52070770e+05 1.77623000e+03]\n",
      " [3.53758250e+05 1.78475000e+03]\n",
      " [3.54919390e+05 1.79061000e+03]\n",
      " [3.55176100e+05 1.79190000e+03]\n",
      " [3.55215900e+05 1.79210000e+03]\n",
      " [3.57712300e+05 1.80470000e+03]\n",
      " [3.59004780e+05 1.81122000e+03]\n",
      " [3.59735100e+05 1.81490000e+03]\n",
      " [3.59448540e+05 1.81346000e+03]\n",
      " [3.59884350e+05 1.81565000e+03]\n",
      " [3.59235620e+05 1.81238000e+03]\n",
      " [3.60166920e+05 1.81708000e+03]\n",
      " [3.60242540e+05 1.81746000e+03]\n",
      " [3.63275240e+05 1.83276000e+03]\n",
      " [3.65361710e+05 1.84329000e+03]\n",
      " [3.69501820e+05 1.86418000e+03]\n",
      " [3.69625200e+05 1.86480000e+03]\n",
      " [3.69939620e+05 1.86638000e+03]\n",
      " [3.70194330e+05 1.86767000e+03]\n",
      " [3.71247020e+05 1.87298000e+03]\n",
      " [3.72036040e+05 1.87696000e+03]\n",
      " [3.72640990e+05 1.88001000e+03]\n",
      " [3.73048930e+05 1.88207000e+03]\n",
      " [3.74904570e+05 1.89143000e+03]\n",
      " [3.75576180e+05 1.89482000e+03]\n",
      " [3.75708510e+05 1.89549000e+03]\n",
      " [3.75319470e+05 1.89353000e+03]\n",
      " [3.75770200e+05 1.89580000e+03]\n",
      " [3.78586990e+05 1.91001000e+03]\n",
      " [3.78054670e+05 1.90733000e+03]\n",
      " [3.79850610e+05 1.91639000e+03]\n",
      " [3.80015780e+05 1.91722000e+03]\n",
      " [3.80127220e+05 1.91778000e+03]\n",
      " [3.79875490e+05 1.91651000e+03]\n",
      " [3.80708290e+05 1.92071000e+03]\n",
      " [3.80183930e+05 1.91807000e+03]\n",
      " [3.83493240e+05 1.93476000e+03]\n",
      " [3.84765820e+05 1.94118000e+03]\n",
      " [3.84770790e+05 1.94121000e+03]\n",
      " [3.83923070e+05 1.93693000e+03]\n",
      " [3.84655370e+05 1.94063000e+03]\n",
      " [3.86674190e+05 1.95081000e+03]\n",
      " [3.89201440e+05 1.96356000e+03]\n",
      " [3.89037270e+05 1.96273000e+03]\n",
      " [3.89629280e+05 1.96572000e+03]\n",
      " [3.90142690e+05 1.96831000e+03]\n",
      " [3.89919810e+05 1.96719000e+03]\n",
      " [3.94118630e+05 1.98837000e+03]\n",
      " [3.94934510e+05 1.99249000e+03]\n",
      " [3.96300620e+05 1.99938000e+03]\n",
      " [3.96937410e+05 2.00259000e+03]\n",
      " [3.97368240e+05 2.00476000e+03]\n",
      " [3.99201980e+05 2.01402000e+03]\n",
      " [3.99110450e+05 2.01355000e+03]\n",
      " [3.99399990e+05 2.01501000e+03]\n",
      " [3.99683550e+05 2.01645000e+03]\n",
      " [3.99945230e+05 2.01777000e+03]\n",
      " [3.99924340e+05 2.01766000e+03]\n",
      " [3.99544260e+05 2.01574000e+03]\n",
      " [4.00131300e+05 2.01870000e+03]\n",
      " [4.00350190e+05 2.01981000e+03]\n",
      " [4.01798880e+05 2.02712000e+03]\n",
      " [4.04665420e+05 2.04158000e+03]\n",
      " [4.04387820e+05 2.04018000e+03]\n",
      " [4.05396730e+05 2.04527000e+03]\n",
      " [4.04788800e+05 2.04220000e+03]\n",
      " [4.09995530e+05 2.06847000e+03]\n",
      " [4.13274980e+05 2.08502000e+03]\n",
      " [4.15105750e+05 2.09425000e+03]\n",
      " [4.14956500e+05 2.09350000e+03]\n",
      " [4.15116690e+05 2.09431000e+03]\n",
      " [4.14755520e+05 2.09248000e+03]\n",
      " [4.15431110e+05 2.09589000e+03]\n",
      " [4.15785320e+05 2.09768000e+03]\n",
      " [4.16379320e+05 2.10068000e+03]\n",
      " [4.19795090e+05 2.11791000e+03]\n",
      " [4.18821000e+05 2.11300000e+03]\n",
      " [4.21059710e+05 2.12429000e+03]\n",
      " [4.25462500e+05 2.14650000e+03]\n",
      " [4.25531150e+05 2.14685000e+03]\n",
      " [4.25589850e+05 2.14715000e+03]\n",
      " [4.30282180e+05 2.17082000e+03]\n",
      " [4.34983460e+05 2.19454000e+03]\n",
      " [4.35291910e+05 2.19609000e+03]\n",
      " [4.36270970e+05 2.20103000e+03]\n",
      " [4.35886910e+05 2.19909000e+03]\n",
      " [4.38226100e+05 2.21090000e+03]\n",
      " [5.04493780e+05 2.54522000e+03]\n",
      " [4.40070800e+05 2.22020000e+03]\n",
      " [4.45457620e+05 2.24738000e+03]\n",
      " [4.44821830e+05 2.24417000e+03]\n",
      " [4.49737030e+05 2.26897000e+03]\n",
      " [4.49640520e+05 2.26848000e+03]\n",
      " [4.50077310e+05 2.27069000e+03]\n",
      " [4.55011420e+05 2.29558000e+03]\n",
      " [4.55361650e+05 2.29735000e+03]\n",
      " [4.60650970e+05 2.32403000e+03]\n",
      " [4.60293770e+05 2.32223000e+03]\n",
      " [4.62519540e+05 2.33346000e+03]\n",
      " [4.65023910e+05 2.34609000e+03]\n",
      " [4.65477620e+05 2.34838000e+03]\n",
      " [4.66051720e+05 2.35128000e+03]\n",
      " [4.66140270e+05 2.35173000e+03]\n",
      " [4.70145070e+05 2.37193000e+03]\n",
      " [4.69677430e+05 2.36957000e+03]\n",
      " [4.72560880e+05 2.38412000e+03]\n",
      " [4.74727950e+05 2.39505000e+03]\n",
      " [4.74735910e+05 2.39509000e+03]\n",
      " [4.82013190e+05 2.43181000e+03]\n",
      " [4.85489650e+05 2.44935000e+03]\n",
      " [4.86784120e+05 2.45588000e+03]\n",
      " [4.88950200e+05 2.46680000e+03]\n",
      " [4.92448550e+05 2.48445000e+03]\n",
      " [4.90847620e+05 2.47638000e+03]\n",
      " [4.94499200e+05 2.49480000e+03]\n",
      " [4.94570840e+05 2.49516000e+03]\n",
      " [4.98609460e+05 2.51554000e+03]\n",
      " [4.98863180e+05 2.51682000e+03]\n",
      " [4.99042280e+05 2.51772000e+03]\n",
      " [4.98354750e+05 2.51425000e+03]\n",
      " [4.98727870e+05 2.51613000e+03]\n",
      " [4.99034320e+05 2.51768000e+03]\n",
      " [4.99619370e+05 2.52063000e+03]\n",
      " [5.00190490e+05 2.52351000e+03]\n",
      " [4.99099990e+05 2.51801000e+03]\n",
      " [4.99602450e+05 2.52055000e+03]\n",
      " [4.99698970e+05 2.52103000e+03]\n",
      " [5.00373560e+05 2.52444000e+03]\n",
      " [5.05167380e+05 2.54862000e+03]\n",
      " [5.07090670e+05 2.55833000e+03]\n",
      " [5.10074620e+05 2.57338000e+03]\n",
      " [5.09717420e+05 2.57158000e+03]\n",
      " [5.08105130e+05 2.56344000e+03]\n",
      " [5.19149840e+05 2.61916000e+03]\n",
      " [5.20765680e+05 2.62732000e+03]\n",
      " [5.25393340e+05 2.65066000e+03]\n",
      " [5.28845920e+05 2.66808000e+03]\n",
      " [5.29251870e+05 2.67013000e+03]\n",
      " [5.30388140e+05 2.67586000e+03]\n",
      " [5.34007870e+05 2.69413000e+03]\n",
      " [5.38257440e+05 2.71556000e+03]\n",
      " [5.39449420e+05 2.72158000e+03]\n",
      " [5.39563840e+05 2.72216000e+03]\n",
      " [5.45110860e+05 2.75014000e+03]\n",
      " [5.45000420e+05 2.74958000e+03]\n",
      " [5.46565520e+05 2.75748000e+03]\n",
      " [5.49828060e+05 2.77394000e+03]\n",
      " [5.50011140e+05 2.77486000e+03]\n",
      " [5.50321570e+05 2.77643000e+03]\n",
      " [5.50459870e+05 2.77713000e+03]\n",
      " [5.51207100e+05 2.78090000e+03]\n",
      " [5.57484430e+05 2.81257000e+03]\n",
      " [5.58486380e+05 2.81762000e+03]\n",
      " [5.59588820e+05 2.82318000e+03]\n",
      " [5.69409270e+05 2.87273000e+03]\n",
      " [5.72095720e+05 2.88628000e+03]\n",
      " [5.72535500e+05 2.88850000e+03]\n",
      " [5.74336410e+05 2.89759000e+03]\n",
      " [5.74829920e+05 2.90008000e+03]\n",
      " [5.76271650e+05 2.90735000e+03]\n",
      " [5.78272550e+05 2.91745000e+03]\n",
      " [5.78985960e+05 2.92104000e+03]\n",
      " [5.79061570e+05 2.92143000e+03]\n",
      " [5.79544140e+05 2.92386000e+03]\n",
      " [5.88362650e+05 2.96835000e+03]\n",
      " [5.88927800e+05 2.97120000e+03]\n",
      " [5.89105900e+05 2.97210000e+03]\n",
      " [5.98576120e+05 3.01988000e+03]\n",
      " [5.99910390e+05 3.02661000e+03]\n",
      " [6.00050680e+05 3.02732000e+03]\n",
      " [6.02702300e+05 3.04070000e+03]\n",
      " [6.08388620e+05 3.06938000e+03]\n",
      " [6.15914650e+05 3.10735000e+03]\n",
      " [6.19857750e+05 3.12725000e+03]\n",
      " [6.24740120e+05 3.15188000e+03]\n",
      " [6.29819500e+05 3.17750000e+03]\n",
      " [6.34100890e+05 3.19911000e+03]\n",
      " [6.35237160e+05 3.20484000e+03]\n",
      " [6.42057750e+05 3.23925000e+03]\n",
      " [6.59310710e+05 3.32629000e+03]\n",
      " [6.67508350e+05 3.36765000e+03]\n",
      " [6.67797890e+05 3.36911000e+03]\n",
      " [6.67703370e+05 3.36863000e+03]\n",
      " [6.69226680e+05 3.37632000e+03]\n",
      " [6.72011630e+05 3.39037000e+03]\n",
      " [6.74359780e+05 3.40222000e+03]\n",
      " [6.74477190e+05 3.40281000e+03]\n",
      " [6.81638060e+05 3.43894000e+03]\n",
      " [6.85188150e+05 3.45685000e+03]\n",
      " [6.99567610e+05 3.52939000e+03]\n",
      " [6.99965600e+05 3.53140000e+03]\n",
      " [7.10001970e+05 3.58203000e+03]\n",
      " [7.12163060e+05 3.59294000e+03]\n",
      " [7.18475220e+05 3.62478000e+03]\n",
      " [7.23727720e+05 3.65128000e+03]\n",
      " [7.29154340e+05 3.67866000e+03]\n",
      " [7.47662960e+05 3.77204000e+03]\n",
      " [7.49070860e+05 3.77914000e+03]\n",
      " [7.49042010e+05 3.77899000e+03]\n",
      " [7.49524570e+05 3.78143000e+03]\n",
      " [7.49947440e+05 3.78356000e+03]\n",
      " [7.64131880e+05 3.85512000e+03]\n",
      " [7.87560670e+05 3.97333000e+03]\n",
      " [7.94310620e+05 4.00738000e+03]\n",
      " [7.99207910e+05 4.03209000e+03]\n",
      " [7.97609970e+05 4.02403000e+03]\n",
      " [7.98415910e+05 4.02809000e+03]\n",
      " [8.07620470e+05 4.07453000e+03]\n",
      " [8.17911550e+05 4.12645000e+03]\n",
      " [8.21197970e+05 4.14303000e+03]\n",
      " [8.23683430e+05 4.15557000e+03]\n",
      " [8.38668830e+05 4.23117000e+03]\n",
      " [8.38798180e+05 4.23182000e+03]\n",
      " [8.38709620e+05 4.23138000e+03]\n",
      " [8.49285270e+05 4.28473000e+03]\n",
      " [8.48952940e+05 4.28306000e+03]\n",
      " [8.75456230e+05 4.41677000e+03]\n",
      " [8.88592960e+05 4.48304000e+03]\n",
      " [8.95676220e+05 4.51878000e+03]\n",
      " [8.97473150e+05 4.52785000e+03]\n",
      " [9.06427980e+05 4.57302000e+03]\n",
      " [9.43803410e+05 4.76159000e+03]\n",
      " [9.47917660e+05 4.78234000e+03]\n",
      " [9.48382310e+05 4.78469000e+03]\n",
      " [9.47171420e+05 4.77858000e+03]\n",
      " [9.51201090e+05 4.79891000e+03]\n",
      " [9.56997850e+05 4.82815000e+03]\n",
      " [9.89921740e+05 4.99426000e+03]\n",
      " [9.96332400e+05 5.02660000e+03]\n",
      " [1.04764353e+06 5.28547000e+03]\n",
      " [1.04832808e+06 5.28892000e+03]\n",
      " [1.09671098e+06 5.53302000e+03]\n",
      " [1.09764228e+06 5.53772000e+03]\n",
      " [1.10015859e+06 5.55041000e+03]\n",
      " [1.14585405e+06 5.78095000e+03]\n",
      " [1.19678211e+06 6.03789000e+03]\n",
      " [1.22237101e+06 6.16699000e+03]\n",
      " [1.24800867e+06 6.29633000e+03]\n",
      " [1.29750794e+06 6.54606000e+03]\n",
      " [1.34429290e+06 6.78210000e+03]\n",
      " [1.34480532e+06 6.78468000e+03]\n",
      " [1.34475358e+06 6.78442000e+03]\n",
      " [1.39651046e+06 7.04554000e+03]\n",
      " [1.49391305e+06 7.53695000e+03]\n",
      " [1.54621817e+06 7.80083000e+03]\n",
      " [1.59234744e+06 8.03356000e+03]\n",
      " [1.61948155e+06 8.17045000e+03]\n",
      " [1.67027529e+06 8.42671000e+03]\n",
      " [2.49052504e+06 1.25649600e+04]\n",
      " [2.78992454e+06 1.40754600e+04]\n",
      " [2.86431523e+06 1.44507700e+04]]\n",
      "Degrees of Freedom: 433\n",
      "Test Stat:1833971.9901\n",
      "p value: 0.0000\n"
     ]
    }
   ],
   "source": [
    "from scipy.stats import chi2_contingency\n",
    "\n",
    "obs = price_sqft_data\n",
    "chi2, p, dof, ex = chi2_contingency(obs, correction = False)\n",
    "\n",
    "print(\"Expected Frequencies:\", np.round(ex,2))\n",
    "print(\"Degrees of Freedom:\", dof)\n",
    "print(\"Test Stat:%.4f\"  % chi2)\n",
    "print(\"p value: %.4f\" % p)\n",
    "        "
   ]
  },
  {
   "cell_type": "code",
   "execution_count": 537,
   "id": "5e1e49ee",
   "metadata": {},
   "outputs": [
    {
     "name": "stdout",
     "output_type": "stream",
     "text": [
      "critical stat:504.3856\n"
     ]
    }
   ],
   "source": [
    "from scipy.stats import chi2\n",
    "\n",
    "alpha = 0.01\n",
    "df = (434-1)*(2-1)\n",
    "critical_stat = chi2.ppf((1-alpha), df)\n",
    "print(\"critical stat:%.4f\" % critical_stat)"
   ]
  },
  {
   "cell_type": "markdown",
   "id": "29780642",
   "metadata": {},
   "source": [
    "Because the p-value is smaller than alpha = 0.01 (and calculated statistic = 1833971.99 is larger than the critical statistic = 504.39), we can reject the null hypothesis. At this significance level, it can be concluded that listing price and square footage are independent of each other. "
   ]
  },
  {
   "cell_type": "markdown",
   "id": "dde9e6db",
   "metadata": {},
   "source": [
    "## Regression Analysis"
   ]
  },
  {
   "cell_type": "code",
   "execution_count": 564,
   "id": "953e4b71",
   "metadata": {},
   "outputs": [],
   "source": [
    "import numpy as np\n",
    "import pandas as pd\n",
    "import matplotlib.pyplot as mtplt\n",
    "import statsmodels.api as sm"
   ]
  },
  {
   "cell_type": "code",
   "execution_count": 563,
   "id": "128fdef0",
   "metadata": {},
   "outputs": [],
   "source": [
    "ps_data = price_sqft_data\n",
    "x = ps_data['sqft']\n",
    "y = ps_data['listPrice']"
   ]
  },
  {
   "cell_type": "code",
   "execution_count": 574,
   "id": "286b0bed",
   "metadata": {},
   "outputs": [],
   "source": [
    "x1 = sm.add_constant(x)\n",
    "results = sm.OLS(y,x1).fit()"
   ]
  },
  {
   "cell_type": "code",
   "execution_count": 575,
   "id": "236d6e00",
   "metadata": {},
   "outputs": [
    {
     "data": {
      "text/html": [
       "<table class=\"simpletable\">\n",
       "<caption>OLS Regression Results</caption>\n",
       "<tr>\n",
       "  <th>Dep. Variable:</th>        <td>listPrice</td>    <th>  R-squared:         </th> <td>   0.026</td> \n",
       "</tr>\n",
       "<tr>\n",
       "  <th>Model:</th>                   <td>OLS</td>       <th>  Adj. R-squared:    </th> <td>   0.024</td> \n",
       "</tr>\n",
       "<tr>\n",
       "  <th>Method:</th>             <td>Least Squares</td>  <th>  F-statistic:       </th> <td>   11.48</td> \n",
       "</tr>\n",
       "<tr>\n",
       "  <th>Date:</th>             <td>Sat, 02 Mar 2024</td> <th>  Prob (F-statistic):</th> <td>0.000768</td> \n",
       "</tr>\n",
       "<tr>\n",
       "  <th>Time:</th>                 <td>18:30:59</td>     <th>  Log-Likelihood:    </th> <td> -6119.6</td> \n",
       "</tr>\n",
       "<tr>\n",
       "  <th>No. Observations:</th>      <td>   434</td>      <th>  AIC:               </th> <td>1.224e+04</td>\n",
       "</tr>\n",
       "<tr>\n",
       "  <th>Df Residuals:</th>          <td>   432</td>      <th>  BIC:               </th> <td>1.225e+04</td>\n",
       "</tr>\n",
       "<tr>\n",
       "  <th>Df Model:</th>              <td>     1</td>      <th>                     </th>     <td> </td>    \n",
       "</tr>\n",
       "<tr>\n",
       "  <th>Covariance Type:</th>      <td>nonrobust</td>    <th>                     </th>     <td> </td>    \n",
       "</tr>\n",
       "</table>\n",
       "<table class=\"simpletable\">\n",
       "<tr>\n",
       "    <td></td>       <th>coef</th>     <th>std err</th>      <th>t</th>      <th>P>|t|</th>  <th>[0.025</th>    <th>0.975]</th>  \n",
       "</tr>\n",
       "<tr>\n",
       "  <th>const</th> <td> 4.262e+05</td> <td> 1.91e+04</td> <td>   22.288</td> <td> 0.000</td> <td> 3.89e+05</td> <td> 4.64e+05</td>\n",
       "</tr>\n",
       "<tr>\n",
       "  <th>sqft</th>  <td>   16.2445</td> <td>    4.794</td> <td>    3.388</td> <td> 0.001</td> <td>    6.822</td> <td>   25.667</td>\n",
       "</tr>\n",
       "</table>\n",
       "<table class=\"simpletable\">\n",
       "<tr>\n",
       "  <th>Omnibus:</th>       <td>332.646</td> <th>  Durbin-Watson:     </th> <td>   0.070</td>\n",
       "</tr>\n",
       "<tr>\n",
       "  <th>Prob(Omnibus):</th> <td> 0.000</td>  <th>  Jarque-Bera (JB):  </th> <td>5887.782</td>\n",
       "</tr>\n",
       "<tr>\n",
       "  <th>Skew:</th>          <td> 3.159</td>  <th>  Prob(JB):          </th> <td>    0.00</td>\n",
       "</tr>\n",
       "<tr>\n",
       "  <th>Kurtosis:</th>      <td>19.902</td>  <th>  Cond. No.          </th> <td>4.93e+03</td>\n",
       "</tr>\n",
       "</table><br/><br/>Notes:<br/>[1] Standard Errors assume that the covariance matrix of the errors is correctly specified.<br/>[2] The condition number is large, 4.93e+03. This might indicate that there are<br/>strong multicollinearity or other numerical problems."
      ],
      "text/latex": [
       "\\begin{center}\n",
       "\\begin{tabular}{lclc}\n",
       "\\toprule\n",
       "\\textbf{Dep. Variable:}    &    listPrice     & \\textbf{  R-squared:         } &     0.026   \\\\\n",
       "\\textbf{Model:}            &       OLS        & \\textbf{  Adj. R-squared:    } &     0.024   \\\\\n",
       "\\textbf{Method:}           &  Least Squares   & \\textbf{  F-statistic:       } &     11.48   \\\\\n",
       "\\textbf{Date:}             & Sat, 02 Mar 2024 & \\textbf{  Prob (F-statistic):} &  0.000768   \\\\\n",
       "\\textbf{Time:}             &     18:30:59     & \\textbf{  Log-Likelihood:    } &   -6119.6   \\\\\n",
       "\\textbf{No. Observations:} &         434      & \\textbf{  AIC:               } & 1.224e+04   \\\\\n",
       "\\textbf{Df Residuals:}     &         432      & \\textbf{  BIC:               } & 1.225e+04   \\\\\n",
       "\\textbf{Df Model:}         &           1      & \\textbf{                     } &             \\\\\n",
       "\\textbf{Covariance Type:}  &    nonrobust     & \\textbf{                     } &             \\\\\n",
       "\\bottomrule\n",
       "\\end{tabular}\n",
       "\\begin{tabular}{lcccccc}\n",
       "               & \\textbf{coef} & \\textbf{std err} & \\textbf{t} & \\textbf{P$> |$t$|$} & \\textbf{[0.025} & \\textbf{0.975]}  \\\\\n",
       "\\midrule\n",
       "\\textbf{const} &    4.262e+05  &     1.91e+04     &    22.288  &         0.000        &     3.89e+05    &     4.64e+05     \\\\\n",
       "\\textbf{sqft}  &      16.2445  &        4.794     &     3.388  &         0.001        &        6.822    &       25.667     \\\\\n",
       "\\bottomrule\n",
       "\\end{tabular}\n",
       "\\begin{tabular}{lclc}\n",
       "\\textbf{Omnibus:}       & 332.646 & \\textbf{  Durbin-Watson:     } &    0.070  \\\\\n",
       "\\textbf{Prob(Omnibus):} &   0.000 & \\textbf{  Jarque-Bera (JB):  } & 5887.782  \\\\\n",
       "\\textbf{Skew:}          &   3.159 & \\textbf{  Prob(JB):          } &     0.00  \\\\\n",
       "\\textbf{Kurtosis:}      &  19.902 & \\textbf{  Cond. No.          } & 4.93e+03  \\\\\n",
       "\\bottomrule\n",
       "\\end{tabular}\n",
       "%\\caption{OLS Regression Results}\n",
       "\\end{center}\n",
       "\n",
       "Notes: \\newline\n",
       " [1] Standard Errors assume that the covariance matrix of the errors is correctly specified. \\newline\n",
       " [2] The condition number is large, 4.93e+03. This might indicate that there are \\newline\n",
       " strong multicollinearity or other numerical problems."
      ],
      "text/plain": [
       "<class 'statsmodels.iolib.summary.Summary'>\n",
       "\"\"\"\n",
       "                            OLS Regression Results                            \n",
       "==============================================================================\n",
       "Dep. Variable:              listPrice   R-squared:                       0.026\n",
       "Model:                            OLS   Adj. R-squared:                  0.024\n",
       "Method:                 Least Squares   F-statistic:                     11.48\n",
       "Date:                Sat, 02 Mar 2024   Prob (F-statistic):           0.000768\n",
       "Time:                        18:30:59   Log-Likelihood:                -6119.6\n",
       "No. Observations:                 434   AIC:                         1.224e+04\n",
       "Df Residuals:                     432   BIC:                         1.225e+04\n",
       "Df Model:                           1                                         \n",
       "Covariance Type:            nonrobust                                         \n",
       "==============================================================================\n",
       "                 coef    std err          t      P>|t|      [0.025      0.975]\n",
       "------------------------------------------------------------------------------\n",
       "const       4.262e+05   1.91e+04     22.288      0.000    3.89e+05    4.64e+05\n",
       "sqft          16.2445      4.794      3.388      0.001       6.822      25.667\n",
       "==============================================================================\n",
       "Omnibus:                      332.646   Durbin-Watson:                   0.070\n",
       "Prob(Omnibus):                  0.000   Jarque-Bera (JB):             5887.782\n",
       "Skew:                           3.159   Prob(JB):                         0.00\n",
       "Kurtosis:                      19.902   Cond. No.                     4.93e+03\n",
       "==============================================================================\n",
       "\n",
       "Notes:\n",
       "[1] Standard Errors assume that the covariance matrix of the errors is correctly specified.\n",
       "[2] The condition number is large, 4.93e+03. This might indicate that there are\n",
       "strong multicollinearity or other numerical problems.\n",
       "\"\"\""
      ]
     },
     "execution_count": 575,
     "metadata": {},
     "output_type": "execute_result"
    }
   ],
   "source": [
    "results.summary()"
   ]
  },
  {
   "cell_type": "code",
   "execution_count": 577,
   "id": "028830b2",
   "metadata": {},
   "outputs": [
    {
     "data": {
      "image/png": "[encoded data removed]",
      "text/plain": [
       "<Figure size 640x480 with 1 Axes>"
      ]
     },
     "metadata": {},
     "output_type": "display_data"
    }
   ],
   "source": [
    "plt.scatter(x,y)\n",
    "yhat = 16.2445*x + 4.262e+05\n",
    "fig = plt.plot(x,yhat, lw = 2, color = 'red', label = 'regression line')\n",
    "plt.xlabel('Square Feet')\n",
    "plt.ylabel('Listing Price (millions $)')\n",
    "plt.show()"
   ]
  }
 ],
 "metadata": {
  "kernelspec": {
   "display_name": "Python 3 (ipykernel)",
   "language": "python",
   "name": "python3"
  },
  "language_info": {
   "codemirror_mode": {
    "name": "ipython",
    "version": 3
   },
   "file_extension": ".py",
   "mimetype": "text/x-python",
   "name": "python",
   "nbconvert_exporter": "python",
   "pygments_lexer": "ipython3",
   "version": "3.11.5"
  }
 },
 "nbformat": 4,
 "nbformat_minor": 5
}
