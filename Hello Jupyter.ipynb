{
 "cells": [
  {
   "cell_type": "code",
   "execution_count": 1,
   "id": "ac55de78",
   "metadata": {},
   "outputs": [
    {
     "name": "stdout",
     "output_type": "stream",
     "text": [
      "Hello Jupyter!\n"
     ]
    }
   ],
   "source": [
    "print('Hello Jupyter!')"
   ]
  },
  {
   "cell_type": "markdown",
   "id": "408befa6",
   "metadata": {},
   "source": [
    "User single _underscores_ or single *asaterisks* to get italics"
   ]
  },
  {
   "cell_type": "markdown",
   "id": "b9f56097",
   "metadata": {},
   "source": [
    "Use double __underscores__ or double **asterisks** to get bold"
   ]
  },
  {
   "cell_type": "markdown",
   "id": "1e8e7fcb",
   "metadata": {},
   "source": [
    "Create headers using #\n",
    "One # is large header, two ## is medium, three ### is small headers\n",
    "# Header\n",
    "## Header\n",
    "### Header"
   ]
  },
  {
   "cell_type": "markdown",
   "id": "6c98d9f5",
   "metadata": {},
   "source": [
    "Create lists using dashes, plus signs, or asterisks. \n",
    "* Item 1\n",
    "* Item 2\n",
    "* Item 3"
   ]
  },
  {
   "cell_type": "markdown",
   "id": "70a33a33",
   "metadata": {},
   "source": [
    "* Item 1\n",
    "    - sub item 1"
   ]
  },
  {
   "cell_type": "markdown",
   "id": "01c4c02d",
   "metadata": {},
   "source": [
    "```python\n",
    "S = \"Syntax highlighting for Python\"\n",
    "print(x)\n",
    "```"
   ]
  },
  {
   "cell_type": "raw",
   "id": "cfe23ddd",
   "metadata": {},
   "source": []
  }
 ],
 "metadata": {
  "kernelspec": {
   "display_name": "Python 3 (ipykernel)",
   "language": "python",
   "name": "python3"
  },
  "language_info": {
   "codemirror_mode": {
    "name": "ipython",
    "version": 3
   },
   "file_extension": ".py",
   "mimetype": "text/x-python",
   "name": "python",
   "nbconvert_exporter": "python",
   "pygments_lexer": "ipython3",
   "version": "3.11.5"
  }
 },
 "nbformat": 4,
 "nbformat_minor": 5
}
