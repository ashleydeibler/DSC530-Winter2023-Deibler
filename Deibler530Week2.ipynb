{
 "cells": [
  {
   "cell_type": "code",
   "execution_count": 16,
   "id": "cf74dea6",
   "metadata": {},
   "outputs": [
    {
     "name": "stdout",
     "output_type": "stream",
     "text": [
      "Hello World! My name is Ashley Deibler.\n"
     ]
    }
   ],
   "source": [
    "print('Hello World! My name is Ashley Deibler.')"
   ]
  },
  {
   "cell_type": "code",
   "execution_count": 12,
   "id": "fd149765",
   "metadata": {},
   "outputs": [
    {
     "data": {
      "text/plain": [
       "532316"
      ]
     },
     "execution_count": 12,
     "metadata": {},
     "output_type": "execute_result"
    }
   ],
   "source": [
    "48393 + 483923"
   ]
  },
  {
   "cell_type": "code",
   "execution_count": 13,
   "id": "171e0546",
   "metadata": {},
   "outputs": [
    {
     "data": {
      "text/plain": [
       "756551"
      ]
     },
     "execution_count": 13,
     "metadata": {},
     "output_type": "execute_result"
    }
   ],
   "source": [
    "778894 - 22343"
   ]
  },
  {
   "cell_type": "code",
   "execution_count": 14,
   "id": "2c85d598",
   "metadata": {},
   "outputs": [
    {
     "data": {
      "text/plain": [
       "1104"
      ]
     },
     "execution_count": 14,
     "metadata": {},
     "output_type": "execute_result"
    }
   ],
   "source": [
    "48 * 23"
   ]
  },
  {
   "cell_type": "code",
   "execution_count": 15,
   "id": "741ef8ba",
   "metadata": {},
   "outputs": [
    {
     "data": {
      "text/plain": [
       "26.41176470588235"
      ]
     },
     "execution_count": 15,
     "metadata": {},
     "output_type": "execute_result"
    }
   ],
   "source": [
    "898/34"
   ]
  },
  {
   "cell_type": "code",
   "execution_count": 17,
   "id": "96ee5098",
   "metadata": {},
   "outputs": [
    {
     "name": "stdout",
     "output_type": "stream",
     "text": [
      "Iloveyou\n"
     ]
    }
   ],
   "source": [
    "a = \"I\"\n",
    "b = \"love\"\n",
    "c = \"you\"\n",
    "\n",
    "print(a + b + c)"
   ]
  },
  {
   "cell_type": "code",
   "execution_count": 18,
   "id": "144a2015",
   "metadata": {},
   "outputs": [
    {
     "name": "stdout",
     "output_type": "stream",
     "text": [
      "['chicken', 'milk', 'corn', 'bananas']\n"
     ]
    }
   ],
   "source": [
    "groceries = ['chicken', 'milk', 'corn', 'bananas']\n",
    "print(groceries)"
   ]
  },
  {
   "cell_type": "code",
   "execution_count": 19,
   "id": "c35c3b95",
   "metadata": {},
   "outputs": [
    {
     "name": "stdout",
     "output_type": "stream",
     "text": [
      "['chicken', 'milk', 'corn', 'bananas', 'cat food']\n"
     ]
    }
   ],
   "source": [
    "groceries.append('cat food')\n",
    "print(groceries)"
   ]
  },
  {
   "cell_type": "code",
   "execution_count": 20,
   "id": "815e54b6",
   "metadata": {},
   "outputs": [
    {
     "data": {
      "text/plain": [
       "(3, 68, 29, 39)"
      ]
     },
     "execution_count": 20,
     "metadata": {},
     "output_type": "execute_result"
    }
   ],
   "source": [
    "tuple_test = (3, 68, 29, 39)\n",
    "tuple_test"
   ]
  }
 ],
 "metadata": {
  "kernelspec": {
   "display_name": "Python 3 (ipykernel)",
   "language": "python",
   "name": "python3"
  },
  "language_info": {
   "codemirror_mode": {
    "name": "ipython",
    "version": 3
   },
   "file_extension": ".py",
   "mimetype": "text/x-python",
   "name": "python",
   "nbconvert_exporter": "python",
   "pygments_lexer": "ipython3",
   "version": "3.11.5"
  }
 },
 "nbformat": 4,
 "nbformat_minor": 5
}
